{
 "cells": [
  {
   "cell_type": "code",
   "execution_count": 1,
   "id": "22fc1340",
   "metadata": {},
   "outputs": [
    {
     "name": "stdout",
     "output_type": "stream",
     "text": [
      "PyTorch version: 1.12.0.dev20220519\n",
      "Is MPS (Metal Performance Shader) built? True\n",
      "Is MPS available? True\n",
      "Using device: mps\n"
     ]
    }
   ],
   "source": [
    "import torch\n",
    "import numpy as np\n",
    "import pandas as pd\n",
    "import sklearn\n",
    "import matplotlib.pyplot as plt\n",
    "\n",
    "print(f\"PyTorch version: {torch.__version__}\")\n",
    "\n",
    "# Check PyTorch has access to MPS (Metal Performance Shader, Apple's GPU architecture)\n",
    "print(f\"Is MPS (Metal Performance Shader) built? {torch.backends.mps.is_built()}\")\n",
    "print(f\"Is MPS available? {torch.backends.mps.is_available()}\")\n",
    "\n",
    "# Set the device      \n",
    "device = \"mps\" if torch.backends.mps.is_available() else \"cpu\"\n",
    "print(f\"Using device: {device}\")"
   ]
  },
  {
   "cell_type": "code",
   "execution_count": null,
   "id": "1ed21976",
   "metadata": {},
   "outputs": [],
   "source": []
  },
  {
   "cell_type": "markdown",
   "id": "8c7c3049",
   "metadata": {},
   "source": [
    "## Setup Hyperparameters and Helper Functions"
   ]
  },
  {
   "cell_type": "code",
   "execution_count": 2,
   "id": "eba069b3",
   "metadata": {},
   "outputs": [],
   "source": [
    "# Setup hyperparameters\n",
    "BATCH_SIZE = 32 # good for your health: https://twitter.com/ylecun/status/989610208497360896\n",
    "NUM_EPOCHS = 3 # only run for a short period of time... we don't have all day\n",
    "DATASET_NAME = \"cifar10\" # dataset to use (there are more in torchvision.datasets)\n",
    "MACHINE = \"Apple M1 Pro\" # change this depending on where you're runing the code\n",
    "NUM_WORKERS = 2 # set number of cores to load data"
   ]
  },
  {
   "cell_type": "code",
   "execution_count": 3,
   "id": "5cc2c4ac",
   "metadata": {},
   "outputs": [],
   "source": [
    "from timeit import default_timer as timer \n",
    "\n",
    "def print_train_time(start, end, device=None, machine=None):\n",
    "    \"\"\"Prints difference between start and end time.\n",
    "    Args:\n",
    "        start (float): Start time of computation (preferred in timeit format). \n",
    "        end (float): End time of computation.\n",
    "    Returns:\n",
    "        float: time between start and end in seconds (higher is longer).\n",
    "    \"\"\"\n",
    "    total_time = end - start\n",
    "    if device:  \n",
    "        print(f\"\\nTrain time on {machine} using PyTorch device {device}: {total_time:.3f} seconds\")\n",
    "    else:\n",
    "        print(f\"\\nTrain time: {total_time:.3f} seconds\\n\")\n",
    "    return round(total_time, 3)"
   ]
  },
  {
   "cell_type": "markdown",
   "id": "4f2bb2b8",
   "metadata": {},
   "source": [
    "## 1. Get data"
   ]
  },
  {
   "cell_type": "code",
   "execution_count": 4,
   "id": "b601d086",
   "metadata": {},
   "outputs": [
    {
     "name": "stdout",
     "output_type": "stream",
     "text": [
      "Files already downloaded and verified\n",
      "Files already downloaded and verified\n",
      "Number of training samples: 50000, number of testing samples: 10000\n"
     ]
    },
    {
     "data": {
      "text/plain": [
       "(<torch.utils.data.dataloader.DataLoader at 0x2885d9250>,\n",
       " <torch.utils.data.dataloader.DataLoader at 0x2885d91c0>)"
      ]
     },
     "execution_count": 4,
     "metadata": {},
     "output_type": "execute_result"
    }
   ],
   "source": [
    "from torchvision import datasets, transforms\n",
    "from torch.utils.data import DataLoader\n",
    "\n",
    "simple_transform = transforms.Compose([\n",
    "    transforms.Resize(size=(32, 32)),\n",
    "    transforms.ToTensor()\n",
    "])\n",
    "\n",
    "# Get Datasets\n",
    "train_data = datasets.CIFAR10(root=\"data\",\n",
    "                              train=True,\n",
    "                              transform=simple_transform,\n",
    "                              download=True)\n",
    "\n",
    "test_data = datasets.CIFAR10(root=\"data\",\n",
    "                             train=False,\n",
    "                             transform=simple_transform,\n",
    "                             download=True)\n",
    "\n",
    "print(f\"Number of training samples: {len(train_data)}, number of testing samples: {len(test_data)}\")\n",
    "\n",
    "# Create DataLoaders\n",
    "train_dataloader = DataLoader(train_data,\n",
    "                              batch_size=BATCH_SIZE,\n",
    "                              shuffle=True,\n",
    "                              num_workers=NUM_WORKERS,\n",
    "                              pin_memory=True)\n",
    "\n",
    "test_dataloader = DataLoader(test_data,\n",
    "                             batch_size=BATCH_SIZE,\n",
    "                             shuffle=False,\n",
    "                             num_workers=NUM_WORKERS,\n",
    "                             pin_memory=True)\n",
    "\n",
    "# train_dataloader = DataLoader(train_data,\n",
    "#                               batch_size=BATCH_SIZE,\n",
    "#                               shuffle=True,\n",
    "#                               num_workers=NUM_WORKERS)\n",
    "\n",
    "# test_dataloader = DataLoader(test_data,\n",
    "#                              batch_size=BATCH_SIZE,\n",
    "#                              shuffle=False,\n",
    "#                              num_workers=NUM_WORKERS)\n",
    "\n",
    "train_dataloader, test_dataloader"
   ]
  },
  {
   "cell_type": "code",
   "execution_count": 5,
   "id": "199d580c",
   "metadata": {},
   "outputs": [
    {
     "data": {
      "text/plain": [
       "torch.Size([3, 32, 32])"
      ]
     },
     "execution_count": 5,
     "metadata": {},
     "output_type": "execute_result"
    }
   ],
   "source": [
    "train_data[0][0].shape"
   ]
  },
  {
   "cell_type": "code",
   "execution_count": 6,
   "id": "3ab8c60f",
   "metadata": {},
   "outputs": [
    {
     "data": {
      "text/plain": [
       "['airplane',\n",
       " 'automobile',\n",
       " 'bird',\n",
       " 'cat',\n",
       " 'deer',\n",
       " 'dog',\n",
       " 'frog',\n",
       " 'horse',\n",
       " 'ship',\n",
       " 'truck']"
      ]
     },
     "execution_count": 6,
     "metadata": {},
     "output_type": "execute_result"
    }
   ],
   "source": [
    "# Get class names\n",
    "class_names = train_data.classes\n",
    "class_names"
   ]
  },
  {
   "cell_type": "markdown",
   "id": "7ae47b23",
   "metadata": {},
   "source": [
    "Display some images."
   ]
  },
  {
   "cell_type": "code",
   "execution_count": 7,
   "id": "a47f066e",
   "metadata": {},
   "outputs": [],
   "source": [
    "# Take in a Dataset as well as a list of class names\n",
    "import random\n",
    "from typing import List\n",
    "def display_random_images(dataset: torch.utils.data.dataset.Dataset,\n",
    "                          classes: List[str] = None,\n",
    "                          n: int = 10,\n",
    "                          display_shape: bool = True,\n",
    "                          seed: int = None):\n",
    "    \n",
    "    # Adjust display if n too high\n",
    "    if n > 10:\n",
    "        n = 10\n",
    "        display_shape = False\n",
    "        print(f\"For display purposes, n shouldn't be larger than 10, setting to 10 and removing shape display.\")\n",
    "    \n",
    "    # Set random seed\n",
    "    if seed:\n",
    "        random.seed(seed)\n",
    "\n",
    "    # Get random sample indexes\n",
    "    random_samples_idx = random.sample(range(len(dataset)), k=n)\n",
    "\n",
    "    # Setup plot\n",
    "    plt.figure(figsize=(16, 8))\n",
    "\n",
    "    # Loop through samples and display random samples \n",
    "    for i, targ_sample in enumerate(random_samples_idx):\n",
    "        targ_image, targ_label = dataset[targ_sample][0], dataset[targ_sample][1]\n",
    "\n",
    "        # Adjust image tensor shape for plotting: [color_channels, height, width] -> [color_channels, height, width]\n",
    "        targ_image_adjust = targ_image.permute(1, 2, 0)\n",
    "\n",
    "        # Plot adjusted samples\n",
    "        plt.subplot(1, n, i+1)\n",
    "        plt.imshow(targ_image_adjust)\n",
    "        plt.axis(\"off\")\n",
    "        if classes:\n",
    "            title = f\"class: {classes[targ_label]}\"\n",
    "            if display_shape:\n",
    "                title = title + f\"\\nshape: {targ_image_adjust.shape}\"\n",
    "        plt.title(title)"
   ]
  },
  {
   "cell_type": "code",
   "execution_count": 8,
   "id": "f5485895",
   "metadata": {},
   "outputs": [
    {
     "data": {
      "image/png": "[encoded data removed]",
      "text/plain": [
       "<Figure size 1152x576 with 5 Axes>"
      ]
     },
     "metadata": {
      "needs_background": "light"
     },
     "output_type": "display_data"
    }
   ],
   "source": [
    "# Display random images\n",
    "display_random_images(train_data, \n",
    "                      n=5, \n",
    "                      classes=class_names,\n",
    "                      seed=None)"
   ]
  },
  {
   "cell_type": "markdown",
   "id": "96fa526e",
   "metadata": {},
   "source": [
    "# 2. Create model\n",
    "\n",
    "TinyVGG architecture from CNN Explainer website: https://poloclub.github.io/cnn-explainer/"
   ]
  },
  {
   "cell_type": "code",
   "execution_count": 9,
   "id": "ffccb57d",
   "metadata": {},
   "outputs": [],
   "source": [
    "import torch\n",
    "from torch import nn\n",
    "class TinyVGG(nn.Module):\n",
    "    \"\"\"Creates the TinyVGG architecture.\n",
    "\n",
    "    Replicates the TinyVGG architecture from the CNN explainer website in PyTorch.\n",
    "    See the original architecture here: https://poloclub.github.io/cnn-explainer/\n",
    "\n",
    "    Args:\n",
    "    input_shape: An integer indicating number of input channels.\n",
    "    hidden_units: An integer indicating number of hidden units between layers.\n",
    "    output_shape: An integer indicating number of output units.\n",
    "    \"\"\"\n",
    "    def __init__(self, input_shape: int, hidden_units: int, output_shape: int) -> None:\n",
    "        super().__init__()\n",
    "        self.conv_block_1 = nn.Sequential(\n",
    "            nn.Conv2d(in_channels=input_shape, \n",
    "                      out_channels=hidden_units, \n",
    "                      kernel_size=3, \n",
    "                      stride=1, \n",
    "                      padding=0),  \n",
    "            nn.ReLU(),\n",
    "            nn.Conv2d(in_channels=hidden_units, \n",
    "                      out_channels=hidden_units,\n",
    "                      kernel_size=3,\n",
    "                      stride=1,\n",
    "                      padding=0),\n",
    "            nn.ReLU(),\n",
    "            nn.MaxPool2d(kernel_size=2,\n",
    "                         stride=2)\n",
    "          )\n",
    "        self.conv_block_2 = nn.Sequential(\n",
    "            nn.Conv2d(hidden_units, hidden_units, kernel_size=3, padding=0),\n",
    "            nn.ReLU(),\n",
    "            nn.Conv2d(hidden_units, hidden_units, kernel_size=3, padding=0),\n",
    "            nn.ReLU(),\n",
    "            nn.MaxPool2d(2)\n",
    "        )\n",
    "        self.classifier = nn.Sequential(\n",
    "            nn.Flatten(),\n",
    "            nn.Linear(in_features=hidden_units*5*5,out_features=output_shape)\n",
    "        )\n",
    "\n",
    "    def forward(self, x: torch.Tensor):\n",
    "# #         print(x.shape)\n",
    "#         x = self.conv_block_1(x)\n",
    "# #         print(x.shape)\n",
    "#         x = self.conv_block_2(x)\n",
    "# #         print(x.shape)\n",
    "#         x = self.classifier(x)\n",
    "#         return x\n",
    "        return self.classifier(self.conv_block_2(self.conv_block_1(x)))"
   ]
  },
  {
   "cell_type": "code",
   "execution_count": 10,
   "id": "4e0ce79f",
   "metadata": {},
   "outputs": [],
   "source": [
    "# model = TinyVGG(input_shape=3,\n",
    "#                hidden_units=10,\n",
    "#                output_shape=3)\n",
    "\n",
    "# model(torch.randn(1, 3, 32, 32))"
   ]
  },
  {
   "cell_type": "markdown",
   "id": "247ec99c",
   "metadata": {},
   "source": [
    "## 3. Setup training/testing loop(s)"
   ]
  },
  {
   "cell_type": "code",
   "execution_count": 11,
   "id": "01674fad",
   "metadata": {},
   "outputs": [],
   "source": [
    "def train_step(model: torch.nn.Module, \n",
    "               dataloader: torch.utils.data.DataLoader, \n",
    "               loss_fn: torch.nn.Module, \n",
    "               optimizer: torch.optim.Optimizer,\n",
    "               device: torch.device):\n",
    "    # Put model in train mode\n",
    "    model.train()\n",
    "    \n",
    "    # Setup train loss and train accuracy values\n",
    "    train_loss, train_acc = 0, 0\n",
    "    \n",
    "    # Loop through data loader data batches\n",
    "    for batch, (X, y) in enumerate(dataloader):\n",
    "        # Send data to target device\n",
    "        X, y = X.to(device, non_blocking=True), y.to(device, non_blocking=True)\n",
    "#         X, y = X.to(device, non_blocking=True, memory_format=torch.channels_last), y.to(device, non_blocking=True)\n",
    "#         X, y = X.to(device), y.to(device)\n",
    "\n",
    "        # 1. Forward pass\n",
    "        y_pred = model(X)\n",
    "\n",
    "        # 2. Calculate  and accumulate loss\n",
    "        loss = loss_fn(y_pred, y)\n",
    "        train_loss += loss.item() \n",
    "\n",
    "        # 3. Optimizer zero grad\n",
    "        optimizer.zero_grad()\n",
    "\n",
    "        # 4. Loss backward\n",
    "        loss.backward()\n",
    "\n",
    "        # 5. Optimizer step\n",
    "        optimizer.step()\n",
    "\n",
    "        # Calculate and accumulate accuracy metric across all batches\n",
    "        y_pred_class = torch.argmax(torch.softmax(y_pred, dim=1), dim=1)\n",
    "        train_acc += (y_pred_class == y).sum().item()/len(y_pred)\n",
    "        \n",
    "#         print(f\"On batch: {batch}\")\n",
    "    # Adjust metrics to get average loss and accuracy per batch \n",
    "    train_loss = train_loss / len(dataloader)\n",
    "    train_acc = train_acc / len(dataloader)\n",
    "    return train_loss, train_acc"
   ]
  },
  {
   "cell_type": "code",
   "execution_count": 12,
   "id": "7cee9d15",
   "metadata": {},
   "outputs": [],
   "source": [
    "def test_step(model: torch.nn.Module, \n",
    "              dataloader: torch.utils.data.DataLoader, \n",
    "              loss_fn: torch.nn.Module,\n",
    "              device: torch.device):\n",
    "    # Put model in eval mode\n",
    "    model.eval() \n",
    "    \n",
    "    # Setup test loss and test accuracy values\n",
    "    test_loss, test_acc = 0, 0\n",
    "    \n",
    "    # Turn on inference context manager\n",
    "    with torch.inference_mode():\n",
    "        # Loop through DataLoader batches\n",
    "        for batch, (X, y) in enumerate(dataloader):\n",
    "            # Send data to target device\n",
    "            X, y = X.to(device, non_blocking=True), y.to(device, non_blocking=True)\n",
    "#             X, y = X.to(device, non_blocking=True, memory_format=torch.channels_last), y.to(device, non_blocking=True)\n",
    "#             X, y = X.to(device), y.to(device)\n",
    "    \n",
    "            # 1. Forward pass\n",
    "            test_pred_logits = model(X)\n",
    "\n",
    "            # 2. Calculate and accumulate loss\n",
    "            loss = loss_fn(test_pred_logits, y)\n",
    "            test_loss += loss.item()\n",
    "            \n",
    "            # Calculate and accumulate accuracy\n",
    "            test_pred_labels = test_pred_logits.argmax(dim=1)\n",
    "            test_acc += ((test_pred_labels == y).sum().item()/len(test_pred_labels))\n",
    "            \n",
    "    # Adjust metrics to get average loss and accuracy per batch \n",
    "    test_loss = test_loss / len(dataloader)\n",
    "    test_acc = test_acc / len(dataloader)\n",
    "    return test_loss, test_acc"
   ]
  },
  {
   "cell_type": "code",
   "execution_count": 13,
   "id": "0ef3fc83",
   "metadata": {},
   "outputs": [],
   "source": [
    "from tqdm.auto import tqdm\n",
    "\n",
    "# 1. Take in various parameters required for training and test steps\n",
    "def train(model: torch.nn.Module, \n",
    "          train_dataloader: torch.utils.data.DataLoader, \n",
    "          test_dataloader: torch.utils.data.DataLoader, \n",
    "          optimizer: torch.optim.Optimizer,\n",
    "          loss_fn: torch.nn.Module,\n",
    "          epochs: int,\n",
    "          device: torch.device):\n",
    "    \n",
    "    print(f\"[INFO] Training model {model.__class__.__name__} on device '{device}' for {epochs} epochs...\")\n",
    "    \n",
    "    # 2. Create empty results dictionary\n",
    "    results = {\"train_loss\": [],\n",
    "        \"train_acc\": [],\n",
    "        \"test_loss\": [],\n",
    "        \"test_acc\": []\n",
    "    }\n",
    "    \n",
    "    # 3. Loop through training and testing steps for a number of epochs\n",
    "    for epoch in range(epochs):\n",
    "    #for epoch in tqdm(range(epochs)):\n",
    "        train_loss, train_acc = train_step(model=model,\n",
    "                                           dataloader=train_dataloader,\n",
    "                                           loss_fn=loss_fn,\n",
    "                                           optimizer=optimizer,\n",
    "                                           device=device)\n",
    "        test_loss, test_acc = test_step(model=model,\n",
    "            dataloader=test_dataloader,\n",
    "            loss_fn=loss_fn,\n",
    "            device=device)\n",
    "        \n",
    "        # 4. Print out what's happening\n",
    "        print(\n",
    "            f\"Epoch: {epoch+1} | \"\n",
    "            f\"train_loss: {train_loss:.4f} | \"\n",
    "            f\"train_acc: {train_acc:.4f} | \"\n",
    "            f\"test_loss: {test_loss:.4f} | \"\n",
    "            f\"test_acc: {test_acc:.4f}\"\n",
    "        )\n",
    "\n",
    "        # 5. Update results dictionary\n",
    "        results[\"train_loss\"].append(train_loss)\n",
    "        results[\"train_acc\"].append(train_acc)\n",
    "        results[\"test_loss\"].append(test_loss)\n",
    "        results[\"test_acc\"].append(test_acc)\n",
    "\n",
    "    # 6. Return the filled results at the end of the epochs\n",
    "    return results"
   ]
  },
  {
   "cell_type": "markdown",
   "id": "7a81a5b0",
   "metadata": {},
   "source": [
    "## 4. Train the model on CPU and MPS device (GPU)"
   ]
  },
  {
   "cell_type": "code",
   "execution_count": 14,
   "id": "ba7ad4cf",
   "metadata": {},
   "outputs": [
    {
     "name": "stdout",
     "output_type": "stream",
     "text": [
      "[INFO] Training model TinyVGG on device 'cpu' for 3 epochs...\n",
      "Epoch: 1 | train_loss: 1.8952 | train_acc: 0.3064 | test_loss: 1.6976 | test_acc: 0.3800\n",
      "Epoch: 2 | train_loss: 1.6458 | train_acc: 0.4014 | test_loss: 1.6211 | test_acc: 0.3933\n",
      "Epoch: 3 | train_loss: 1.5472 | train_acc: 0.4323 | test_loss: 1.5073 | test_acc: 0.4394\n",
      "\n",
      "Train time on Apple M1 Pro using PyTorch device cpu: 100.887 seconds\n",
      "[INFO] Training model TinyVGG on device 'mps' for 3 epochs...\n",
      "Epoch: 1 | train_loss: 1.8047 | train_acc: 0.3366 | test_loss: 1.5631 | test_acc: 0.4291\n",
      "Epoch: 2 | train_loss: 1.4899 | train_acc: 0.4616 | test_loss: 1.5273 | test_acc: 0.4557\n",
      "Epoch: 3 | train_loss: 1.4139 | train_acc: 0.4930 | test_loss: 1.3786 | test_acc: 0.5070\n",
      "\n",
      "Train time on Apple M1 Pro using PyTorch device mps: 713.224 seconds\n"
     ]
    }
   ],
   "source": [
    "# Set random seed\n",
    "torch.manual_seed(42)\n",
    "\n",
    "# Create device list\n",
    "devices = [\"cpu\", \"mps\"]\n",
    "\n",
    "for device in devices:\n",
    "\n",
    "    # Recreate an instance of TinyVGG\n",
    "    model = TinyVGG(input_shape=3, # number of color channels (3 for RGB) \n",
    "                    hidden_units=10, \n",
    "                    output_shape=len(train_data.classes)).to(device)\n",
    "\n",
    "    # Setup loss function and optimizer\n",
    "    loss_fn = nn.CrossEntropyLoss()\n",
    "    optimizer = torch.optim.Adam(params=model.parameters(), lr=0.001)\n",
    "\n",
    "    # Start the timer\n",
    "    from timeit import default_timer as timer \n",
    "    start_time = timer()\n",
    "\n",
    "    # Train model\n",
    "    model_results = train(model=model, \n",
    "                          train_dataloader=train_dataloader,\n",
    "                          test_dataloader=test_dataloader,\n",
    "                          optimizer=optimizer,\n",
    "                          loss_fn=loss_fn, \n",
    "                          epochs=NUM_EPOCHS,\n",
    "                          device=device)\n",
    "\n",
    "    # End the timer\n",
    "    end_time = timer()\n",
    "\n",
    "    # Print out timer and results\n",
    "    total_train_time = print_train_time(start=start_time,\n",
    "                                        end=end_time,\n",
    "                                        device=device,\n",
    "                                        machine=MACHINE)\n",
    "    \n",
    "    # Create results dict\n",
    "    results = {\n",
    "    \"machine\": MACHINE,\n",
    "    \"device\": device,\n",
    "    \"dataset_name\": DATASET_NAME,\n",
    "    \"epochs\": NUM_EPOCHS,\n",
    "    \"batch_size\": BATCH_SIZE,\n",
    "    \"num_train_samples\": len(train_data),\n",
    "    \"num_test_samples\": len(test_data),\n",
    "    \"total_train_time\": round(total_train_time, 3),\n",
    "    \"time_per_epoch\": round(total_train_time/NUM_EPOCHS, 3),\n",
    "    \"model\": model.__class__.__name__\n",
    "    }\n",
    "    \n",
    "    results_df = pd.DataFrame(results, index=[0])\n",
    "    \n",
    "    # Write CSV to file\n",
    "    import os\n",
    "    if not os.path.exists(\"results/\"):\n",
    "        os.makedirs(\"results/\")\n",
    "\n",
    "    results_df.to_csv(f\"results/{MACHINE.lower().replace(' ', '_')}_{device}_{DATASET_NAME}.csv\", \n",
    "                      index=False)"
   ]
  },
  {
   "cell_type": "markdown",
   "id": "7310a421",
   "metadata": {},
   "source": [
    "## 5. Inspect results"
   ]
  },
  {
   "cell_type": "code",
   "execution_count": 39,
   "id": "2c560237",
   "metadata": {},
   "outputs": [
    {
     "data": {
      "text/html": [
       "<div>\n",
       "<style scoped>\n",
       "    .dataframe tbody tr th:only-of-type {\n",
       "        vertical-align: middle;\n",
       "    }\n",
       "\n",
       "    .dataframe tbody tr th {\n",
       "        vertical-align: top;\n",
       "    }\n",
       "\n",
       "    .dataframe thead th {\n",
       "        text-align: right;\n",
       "    }\n",
       "</style>\n",
       "<table border=\"1\" class=\"dataframe\">\n",
       "  <thead>\n",
       "    <tr style=\"text-align: right;\">\n",
       "      <th></th>\n",
       "      <th>Unnamed: 0</th>\n",
       "      <th>machine</th>\n",
       "      <th>device</th>\n",
       "      <th>dataset_name</th>\n",
       "      <th>epochs</th>\n",
       "      <th>batch_size</th>\n",
       "      <th>num_train_samples</th>\n",
       "      <th>num_test_samples</th>\n",
       "      <th>total_train_time</th>\n",
       "      <th>time_per_epoch</th>\n",
       "      <th>model</th>\n",
       "    </tr>\n",
       "  </thead>\n",
       "  <tbody>\n",
       "    <tr>\n",
       "      <th>0</th>\n",
       "      <td>0</td>\n",
       "      <td>Apple M1 Pro</td>\n",
       "      <td>cpu</td>\n",
       "      <td>cifar10</td>\n",
       "      <td>3</td>\n",
       "      <td>32</td>\n",
       "      <td>50000</td>\n",
       "      <td>10000</td>\n",
       "      <td>100.887</td>\n",
       "      <td>33.629</td>\n",
       "      <td>TinyVGG</td>\n",
       "    </tr>\n",
       "    <tr>\n",
       "      <th>1</th>\n",
       "      <td>0</td>\n",
       "      <td>Apple M1 Pro</td>\n",
       "      <td>mps</td>\n",
       "      <td>cifar10</td>\n",
       "      <td>3</td>\n",
       "      <td>32</td>\n",
       "      <td>50000</td>\n",
       "      <td>10000</td>\n",
       "      <td>713.224</td>\n",
       "      <td>237.741</td>\n",
       "      <td>TinyVGG</td>\n",
       "    </tr>\n",
       "  </tbody>\n",
       "</table>\n",
       "</div>"
      ],
      "text/plain": [
       "   Unnamed: 0       machine device dataset_name  epochs  batch_size  \\\n",
       "0           0  Apple M1 Pro    cpu      cifar10       3          32   \n",
       "1           0  Apple M1 Pro    mps      cifar10       3          32   \n",
       "\n",
       "   num_train_samples  num_test_samples  total_train_time  time_per_epoch  \\\n",
       "0              50000             10000           100.887          33.629   \n",
       "1              50000             10000           713.224         237.741   \n",
       "\n",
       "     model  \n",
       "0  TinyVGG  \n",
       "1  TinyVGG  "
      ]
     },
     "execution_count": 39,
     "metadata": {},
     "output_type": "execute_result"
    }
   ],
   "source": [
    "cpu_df = pd.read_csv(\"results/apple_m1_pro_cpu_cifar10.csv\")\n",
    "mps_df = pd.read_csv(\"results/apple_m1_pro_mps_cifar10.csv\")\n",
    "\n",
    "results_df = pd.concat([cpu_df, mps_df]).reset_index(drop=True)\n",
    "results_df"
   ]
  },
  {
   "cell_type": "code",
   "execution_count": 37,
   "id": "702d2ec1",
   "metadata": {},
   "outputs": [],
   "source": [
    "results_df"
   ]
  },
  {
   "cell_type": "code",
   "execution_count": 52,
   "id": "78e9e1e2",
   "metadata": {},
   "outputs": [],
   "source": [
    "machine_and_device_list = [row[1][0] + \" (\" + row[1][1] + \")\" for row in results_df[[\"machine\", \"device\"]].iterrows()]"
   ]
  },
  {
   "cell_type": "code",
   "execution_count": 68,
   "id": "aa7a147d",
   "metadata": {},
   "outputs": [
    {
     "name": "stdout",
     "output_type": "stream",
     "text": [
      "Saving figure to 'results/apple_m1_pro_TinyVGG_cifar10.png'\n"
     ]
    },
    {
     "data": {
      "image/png": "[encoded data removed]",
      "text/plain": [
       "<Figure size 720x504 with 1 Axes>"
      ]
     },
     "metadata": {},
     "output_type": "display_data"
    }
   ],
   "source": [
    "plt.figure(figsize=(10, 7))\n",
    "plt.style.use('fivethirtyeight')\n",
    "plt.bar(machine_and_device_list, height=results_df.time_per_epoch)\n",
    "plt.title(f\"PyTorch TinyVGG Training on CIFAR10 with batch size {BATCH_SIZE}\", size=16)\n",
    "plt.xlabel(\"Machine (device)\", size=14)\n",
    "plt.ylabel(\"Seconds per epoch (lower is better)\", size=14);\n",
    "save_path = f\"results/{MACHINE.lower().replace(' ', '_')}_{model.__class__.__name__}_{DATASET_NAME}.png\"\n",
    "print(f\"Saving figure to '{save_path}'\")\n",
    "plt.savefig(save_path)"
   ]
  }
 ],
 "metadata": {
  "kernelspec": {
   "display_name": "Python 3 (ipykernel)",
   "language": "python",
   "name": "python3"
  },
  "language_info": {
   "codemirror_mode": {
    "name": "ipython",
    "version": 3
   },
   "file_extension": ".py",
   "mimetype": "text/x-python",
   "name": "python",
   "nbconvert_exporter": "python",
   "pygments_lexer": "ipython3",
   "version": "3.8.13"
  }
 },
 "nbformat": 4,
 "nbformat_minor": 5
}
